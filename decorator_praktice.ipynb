{
 "cells": [
  {
   "cell_type": "markdown",
   "metadata": {},
   "source": [
    "#Сначала создадим декторатор, выводящий время, которое заняло выполнение декорируемой функции."
   ]
  },
  {
   "cell_type": "code",
   "execution_count": 2,
   "metadata": {},
   "outputs": [],
   "source": [
    "import time\n",
    "\n",
    "def benchmark(func):\n",
    "    def wrapper(*args, **kwargs):\n",
    "        # Если это первый вызов в рекурсивной цепочке\n",
    "        is_top_level = not wrapper.active\n",
    "        if is_top_level:\n",
    "            wrapper.active = True  # Устанавливаем флаг, что измерение запущено\n",
    "            start = time.time()\n",
    "        \n",
    "        result = func(*args, **kwargs)\n",
    "        \n",
    "        # Завершаем замер времени только для самого первого вызова\n",
    "        if is_top_level:\n",
    "            print(f'{func.__name__} executed in {time.time() - start} seconds')\n",
    "            wrapper.active = False  # Сбрасываем флаг после завершения\n",
    "        \n",
    "        return result\n",
    "\n",
    "    wrapper.active = False  # Флаг, показывающий, что замер сейчас не идёт\n",
    "    return wrapper"
   ]
  },
  {
   "cell_type": "code",
   "execution_count": 3,
   "metadata": {},
   "outputs": [],
   "source": [
    "def logging(func):\n",
    "    def wrapper(*args, **kwargs):\n",
    "        print(f'{func.__name__} called with {args} and {kwargs}')\n",
    "        return func(*args, **kwargs)\n",
    "    return wrapper"
   ]
  },
  {
   "cell_type": "code",
   "execution_count": 4,
   "metadata": {},
   "outputs": [],
   "source": [
    "def counter(func):\n",
    "    def wrapper(*args, **kwargs):\n",
    "        wrapper.count += 1\n",
    "        print(f'{func.__name__} called {wrapper.count} times with {args} and {kwargs}')\n",
    "        return func(*args, **kwargs)\n",
    "    wrapper.count = 0\n",
    "    return wrapper"
   ]
  },
  {
   "cell_type": "code",
   "execution_count": 5,
   "metadata": {},
   "outputs": [
    {
     "name": "stdout",
     "output_type": "stream",
     "text": [
      "fibonachi_lite executed in 40.66130089759827 seconds\n",
      "165580141\n"
     ]
    }
   ],
   "source": [
    "@benchmark\n",
    "def fibonachi_lite(n):\n",
    "    if n < 2:\n",
    "        return 1\n",
    "    return fibonachi_lite(n-1) + fibonachi_lite(n-2)\n",
    "\n",
    "print(fibonachi_lite(40))"
   ]
  },
  {
   "cell_type": "code",
   "execution_count": 6,
   "metadata": {},
   "outputs": [],
   "source": [
    "\n",
    "def memo(func):\n",
    "    cache = {}\n",
    "    def wrapper(*args, **kwargs):\n",
    "        key = (args, tuple(kwargs.items()))\n",
    "        if key not in cache:\n",
    "            cache[key] = func(*args, **kwargs)\n",
    "        return cache[key]\n",
    "    return wrapper"
   ]
  },
  {
   "cell_type": "code",
   "execution_count": 7,
   "metadata": {},
   "outputs": [
    {
     "name": "stdout",
     "output_type": "stream",
     "text": [
      "wrapper executed in 0.0 seconds\n"
     ]
    },
    {
     "data": {
      "text/plain": [
       "165580141"
      ]
     },
     "execution_count": 7,
     "metadata": {},
     "output_type": "execute_result"
    }
   ],
   "source": [
    "@benchmark\n",
    "@memo\n",
    "def fibonachi_pro(n):\n",
    "    if n < 2:\n",
    "        return 1\n",
    "    return fibonachi_pro(n-1) + fibonachi_pro(n-2)  \n",
    "\n",
    "fibonachi_pro(40)"
   ]
  }
 ],
 "metadata": {
  "kernelspec": {
   "display_name": "Python (pyenv 3.10.6)",
   "language": "python",
   "name": "pyenv-3.10.6"
  },
  "language_info": {
   "codemirror_mode": {
    "name": "ipython",
    "version": 3
   },
   "file_extension": ".py",
   "mimetype": "text/x-python",
   "name": "python",
   "nbconvert_exporter": "python",
   "pygments_lexer": "ipython3",
   "version": "3.10.6"
  }
 },
 "nbformat": 4,
 "nbformat_minor": 2
}
